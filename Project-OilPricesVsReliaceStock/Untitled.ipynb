{
 "cells": [
  {
   "cell_type": "markdown",
   "metadata": {},
   "source": [
    "Project 9\n",
    "Determining the relationship between oil prices and Reliance stock\n",
    "\n",
    "\n",
    "Reliance Industries' activities span hydrocarbon exploration and production, petroleum refining and marketing, petrochemicals, retail and telecommunications.\n",
    " The products of the company are clearly related to crude oil and other petrochemical products which signifies that oil price volatility definitely hits the share price of Reliance. Our project will focus on determining the extent of this relationship between the two. \n",
    "Share price movement is dependent on both Company’s performance and human sentiments. Human sentiments impacts are short term and are driven by the geopolitical changes. We will incorporate its effect in our research as well.\n",
    "For Reliance Industries, the volatility in crude oil prices have effect on both profit and cost element of the financials. The impact of changes in oil prices will be analysed on both the components. \n",
    "As Reliance imports the crude oil, it is exposed to foreign exchange risk as well. And there will be many other macroeconomic factors that will impact the share price. Those will be highlighted as well through the research.\n"
   ]
  }
 ],
 "metadata": {
  "kernelspec": {
   "display_name": "R",
   "language": "R",
   "name": "ir"
  },
  "language_info": {
   "codemirror_mode": "r",
   "file_extension": ".r",
   "mimetype": "text/x-r-source",
   "name": "R",
   "pygments_lexer": "r",
   "version": "3.4.4"
  }
 },
 "nbformat": 4,
 "nbformat_minor": 2
}
